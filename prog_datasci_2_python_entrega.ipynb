{
 "metadata": {
  "celltoolbar": "Raw Cell Format",
  "kernelspec": {
   "display_name": "Python 2",
   "language": "python",
   "name": "python2"
  },
  "language_info": {
   "codemirror_mode": {
    "name": "ipython",
    "version": 2
   },
   "file_extension": ".py",
   "mimetype": "text/x-python",
   "name": "python",
   "nbconvert_exporter": "python",
   "pygments_lexer": "ipython2",
   "version": "2.7.15"
  },
  "name": "",
  "signature": "sha256:ece4fff530fd8d5e08bed3d6df3d89fa35d09477d31ab677ea3fd2d08bc17cf4"
 },
 "nbformat": 3,
 "nbformat_minor": 0,
 "worksheets": [
  {
   "cells": [
    {
     "cell_type": "heading",
     "level": 1,
     "metadata": {},
     "source": [
      "Programaci\u00f3n para *Data Science*"
     ]
    },
    {
     "cell_type": "heading",
     "level": 2,
     "metadata": {},
     "source": [
      "Unidad 2: Breve introducci\u00f3n a la programaci\u00f3n en Python"
     ]
    },
    {
     "cell_type": "markdown",
     "metadata": {},
     "source": [
      "Ejercicios y preguntas te\u00f3ricas\n",
      "-------------------------------\n",
      "\n",
      "A continuaci\u00f3n, encontrar\u00e9is la parte que ten\u00e9is que completar en este m\u00f3dulo y las preguntas te\u00f3ricas que deb\u00e9is contestar.\n",
      "\n",
      "Pod\u00e9is encontrar en la documentaci\u00f3n oficial de *string* funciones que os puedan ser de ayuda para completar los ejercicios: https://docs.python.org/2/library/string.html"
     ]
    },
    {
     "cell_type": "markdown",
     "metadata": {},
     "source": [
      "### Pregunta 1\n",
      "\n",
      "\u00bfCu\u00e1l es el valor final de a, b y c (atenci\u00f3n a los tipos de n\u00famero decimal y entero)? **(1 punto)**\n",
      "\n",
      "a = 3*2.\n",
      "\n",
      "b = 11/4\n",
      "\n",
      "c, a = a*2, b+1\n",
      "\n",
      "#### Respuesta:"
     ]
    },
    {
     "cell_type": "markdown",
     "metadata": {},
     "source": [
      "Respuesta"
     ]
    },
    {
     "cell_type": "markdown",
     "metadata": {},
     "source": [
      "### Pregunta 2\n",
      "\n",
      "Marcad las expresiones incorrectas y explicad el porqu\u00e9. **(1 punto)**\n",
      "\n",
      "1. planetas = ('Saturno', 'Jupiter' 'Tierra')\n",
      "2. t = '123','abc'\n",
      "3. dias = ['Lunes', 'Martes', \"Miercoles\", ''.join(['J','u','e','v','e','s'])]\n",
      "4. matriz = [[],[],[]]\n",
      "\n",
      "**Respuesta:**"
     ]
    },
    {
     "cell_type": "markdown",
     "metadata": {},
     "source": [
      "1. \n",
      "2. \n",
      "3. \n",
      "4. "
     ]
    },
    {
     "cell_type": "markdown",
     "metadata": {},
     "source": [
      "### Pregunta 3\n",
      "\n",
      "Explicad a qu\u00e9 se refieren con el t\u00e9rmino _batteries included_ en la comunidad Python. Poned tres ejemplos de paquetes de la librer\u00eda est\u00e1ndar y una breve explicaci\u00f3n de cada uno de ellos. **(1 punto)**\n",
      "\n",
      "**Respuesta:**"
     ]
    },
    {
     "cell_type": "markdown",
     "metadata": {},
     "source": [
      "Respuesta"
     ]
    },
    {
     "cell_type": "markdown",
     "metadata": {},
     "source": [
      "### Ejercicio 1 \n",
      "\n",
      "Escribid una expresi\u00f3n en Python que muestre el siguiente output por pantalla **(1 punto)**\n"
     ]
    },
    {
     "cell_type": "raw",
     "metadata": {},
     "source": [
      "Hello\n",
      "\n",
      "    Python"
     ]
    },
    {
     "cell_type": "markdown",
     "metadata": {},
     "source": [
      "(fijaros que hay un salto de l\u00ednea entre las dos palabras y que la palabra \"Python\" est\u00e1 tabulada hac\u00eda la derecha)\n",
      "\n",
      "#### Respuesta:"
     ]
    },
    {
     "cell_type": "code",
     "collapsed": false,
     "input": [
      "# Respuesta"
     ],
     "language": "python",
     "metadata": {},
     "outputs": [],
     "prompt_number": 2
    },
    {
     "cell_type": "markdown",
     "metadata": {},
     "source": [
      "### Ejercicio 2\n",
      "\u00bfQu\u00e9 expresi\u00f3n en Python necesitamos para conseguir el string \"DATADATADATADATADA\" utilizando solo la palabra \"DATA\"? **(1 punto)**\n",
      "\n",
      "#### Respuesta:"
     ]
    },
    {
     "cell_type": "code",
     "collapsed": true,
     "input": [
      "# Respuesta"
     ],
     "language": "python",
     "metadata": {},
     "outputs": [],
     "prompt_number": 7
    },
    {
     "cell_type": "markdown",
     "metadata": {},
     "source": [
      "### Ejercicio 3\n",
      "\n",
      "Python dispone de un _idiom_ muy \u00fatil conocido como _list comprehensions_. Buscad documentaci\u00f3n sobre este idiom y proporcionad una expresi\u00f3n con _list comprehensions_ que devuelva: **(1 punto)**\n",
      "\n",
      "**a)** Una lista de los cuadrados de los 10 primeros n\u00fameros naturales:"
     ]
    },
    {
     "cell_type": "code",
     "collapsed": false,
     "input": [
      "# Respuesta"
     ],
     "language": "python",
     "metadata": {},
     "outputs": []
    },
    {
     "cell_type": "markdown",
     "metadata": {},
     "source": [
      "**b)** Una lista de los n\u00fameros pares que hay del 5 al 15:"
     ]
    },
    {
     "cell_type": "code",
     "collapsed": false,
     "input": [
      "# Respuesta"
     ],
     "language": "python",
     "metadata": {},
     "outputs": []
    },
    {
     "cell_type": "markdown",
     "metadata": {},
     "source": [
      "**c)** Una lista de caracteres de las letras de la variable `s` en may\u00fasculas:"
     ]
    },
    {
     "cell_type": "code",
     "collapsed": false,
     "input": [
      "s = \"Hello World!\"\n",
      "# Respuesta\n"
     ],
     "language": "python",
     "metadata": {},
     "outputs": [],
     "prompt_number": 5
    },
    {
     "cell_type": "markdown",
     "metadata": {},
     "source": [
      "### Ejercicio 4\n",
      "\n",
      "Escribid un programa que asigne dos valores enteros cualesquiera (escoged un n\u00famero entero aleatorio) a dos variables con nombre a y b, calcule el producto de a por b y finalmente muestre el valor del cuadrado del producto de a por b. **(1 punto)**\n",
      "\n",
      "#### Respuesta:"
     ]
    },
    {
     "cell_type": "code",
     "collapsed": true,
     "input": [
      "# Respuesta"
     ],
     "language": "python",
     "metadata": {},
     "outputs": [],
     "prompt_number": 8
    },
    {
     "cell_type": "markdown",
     "metadata": {},
     "source": [
      "### Ejercicio 5\n",
      "\n",
      "Escribid un programa que defina una lista cuyos valores sean los nombres de los d\u00edas de la semana. Haced que muestre el primer y el pen\u00faltimo d\u00eda de la semana. **(1 punto)**\n",
      "\n",
      "#### Respuesta:"
     ]
    },
    {
     "cell_type": "code",
     "collapsed": true,
     "input": [
      "# Respuesta"
     ],
     "language": "python",
     "metadata": {},
     "outputs": [],
     "prompt_number": 1
    },
    {
     "cell_type": "markdown",
     "metadata": {},
     "source": [
      "### Ejercicio 6\n",
      "\n",
      "Escribid un programa que calcule el volumen de un cilindro de radio 3 y altura 9. **(1 punto)**\n",
      "\n",
      "#### Respuesta:"
     ]
    },
    {
     "cell_type": "code",
     "collapsed": true,
     "input": [
      "# Respuesta"
     ],
     "language": "python",
     "metadata": {},
     "outputs": [],
     "prompt_number": 2
    },
    {
     "cell_type": "markdown",
     "metadata": {},
     "source": [
      "### Ejercicio 7\n",
      "\n",
      "Escribid un programa donde se defina un diccionario con algunos de los prefijos telef\u00f3nicos de Espa\u00f1a. Por ejemplo: 93 para Barcelona, 91 para Madrid, etc. **(1 punto)**\n",
      "\n",
      "#### Respuesta:"
     ]
    },
    {
     "cell_type": "code",
     "collapsed": true,
     "input": [
      "# Respuesta"
     ],
     "language": "python",
     "metadata": {},
     "outputs": [],
     "prompt_number": 3
    },
    {
     "cell_type": "markdown",
     "metadata": {},
     "source": [
      "---\n",
      "\n",
      "---"
     ]
    },
    {
     "cell_type": "markdown",
     "metadata": {},
     "source": [
      "### Ejercicio 8 (Opcional)\n",
      "\n",
      "Escribid un programa que genere una lista de n\u00fameros aleatorios y calcule la suma de todos los n\u00fameros de la lista. Los n\u00fameros de la lista deber\u00e1n cumplir la siguiente condici\u00f3n 0 <= N <= 100. Adem\u00e1s, el programa deber\u00e1 preguntar al usuario cu\u00e1ntos elementos debe tener la lista (el usuario introducir\u00e1 el n\u00famero de elementos usando el teclado) y mostrar un mensaje de error si el usuario pide generar una lista de m\u00e1s de 50 elementos. Haced que el programa muestre la lista generada y su suma.\n",
      "\n",
      "#### Respuesta:"
     ]
    },
    {
     "cell_type": "code",
     "collapsed": false,
     "input": [
      "# Respuesta"
     ],
     "language": "python",
     "metadata": {},
     "outputs": [],
     "prompt_number": null
    }
   ],
   "metadata": {}
  }
 ]
}