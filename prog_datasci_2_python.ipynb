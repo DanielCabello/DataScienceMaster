{
 "metadata": {
  "kernelspec": {
   "display_name": "Python 2",
   "language": "python",
   "name": "python2"
  },
  "language_info": {
   "codemirror_mode": {
    "name": "ipython",
    "version": 2
   },
   "file_extension": ".py",
   "mimetype": "text/x-python",
   "name": "python",
   "nbconvert_exporter": "python",
   "pygments_lexer": "ipython2",
   "version": "2.7.11"
  },
  "name": "",
  "signature": "sha256:1339bd1e8645d2a01f4786b228daffe9e1deba6c36eabf3c0af604225c9d4f29"
 },
 "nbformat": 3,
 "nbformat_minor": 0,
 "worksheets": [
  {
   "cells": [
    {
     "cell_type": "heading",
     "level": 1,
     "metadata": {},
     "source": [
      "Programaci\u00f3n para *Data Science*"
     ]
    },
    {
     "cell_type": "markdown",
     "metadata": {},
     "source": [
      "Unidad 2: Breve introducci\u00f3n a la programaci\u00f3n en Python\n",
      "--------------------------------------------\n",
      "\n",
      "### Instrucciones de uso\n",
      "\n",
      "A continuaci\u00f3n se ir\u00e1 presentando la sintaxis b\u00e1sica del lenguaje de programaci\u00f3n Python junto a ejemplos interactivos."
     ]
    },
    {
     "cell_type": "markdown",
     "metadata": {},
     "source": [
      "Variables y tipos de variables\n",
      "------------------------------\n",
      "\n",
      "Podemos entender una variable como un contenedor en el que podemos poner nuestros datos a fin de guardarlos y tratarlos m\u00e1s adelante. En Python, las variables no tienen tipo, es decir, no tenemos que indicar si la variable ser\u00e1 un n\u00famero, un car\u00e1cter, una cadena de caracteres o una lista, por ejemplo. Adem\u00e1s, las variables pueden ser declaradas e inicializadas en cualquier momento, a diferencia de otros lenguajes de programaci\u00f3n.\n",
      "\n",
      "Para declarar una variable, utilizamos la expresi\u00f3n *nombre_de_variable = valor*. Se recomienda repasar el documento PEP-8 que se indica en la parte de teor\u00eda para definir nombres de variables correctamente, pero *grosso modo*, evitaremos utilizar may\u00fascula en la inicial, separaremos las diferentes palabras con el car\u00e1cter \u00ab\\_\u00bb y no utilizaremos acentos ni caracteres espec\u00edficos de nuestra condificaci\u00f3n como el s\u00edmbolo del \u00ab\u20ac\u00bb o la \u00ab\u00f1\u00bb, por ejemplo. \n",
      "\n",
      "Veamos unos cuantos ejemplos de declaraciones de variables y c\u00f3mo usarlas:\n",
      "\n"
     ]
    },
    {
     "cell_type": "code",
     "collapsed": false,
     "input": [
      "# Declaramos una variable de nombre 'variable_numerica' que contiene el valor entero 12.\n",
      "variable_numerica = 12\n",
      "\n",
      "# Declaramos una variable de nombre 'monstruo' que contiene el valor 'Godzilla'.\n",
      "monstruo = 'Godzilla'\n",
      "\n",
      "# Declaramos una variable de nombre 'planetas' que es una lista de cadenas de caracteres.\n",
      "planetas = ['Mercurio', 'Venus', 'Tierra', 'Marte']"
     ],
     "language": "python",
     "metadata": {},
     "outputs": [],
     "prompt_number": 1
    },
    {
     "cell_type": "code",
     "collapsed": false,
     "input": [
      "mi_edad = 25\n",
      "mi_edad_en_5 = mi_edad + 5\n",
      "# 'Imprimimos' el valor calculado que ser\u00e1, efectivamente, 30.\n",
      "print mi_edad_en_5"
     ],
     "language": "python",
     "metadata": {},
     "outputs": [
      {
       "output_type": "stream",
       "stream": "stdout",
       "text": [
        "30\n"
       ]
      }
     ],
     "prompt_number": 2
    },
    {
     "cell_type": "markdown",
     "metadata": {},
     "source": [
      "Los tipos nativos de datos que una variable en Python puede contener son: n\u00fameros enteros (int), n\u00fameros decimales (float), n\u00fameros complejos (complex), cadena de caracteres (string), listas (list), tuplas (tuple) y diccionarios (dict). Veamos uno por uno cada uno de estos tipos:"
     ]
    },
    {
     "cell_type": "code",
     "collapsed": false,
     "input": [
      "# Un n\u00famero entero\n",
      "int_var = 1\n",
      "another_int_var = -5\n",
      "# Podemos sumarlos, restarlos, multiplicarlos o dividirlos.\n",
      "print int_var + another_int_var\n",
      "print int_var - another_int_var\n",
      "print int_var * another_int_var\n",
      "# Fijaos en esta \u00faltima operaci\u00f3n: se trata de una divisi\u00f3n entera.\n",
      "# Como solo tratamos con n\u00fameros enteros, no tendr\u00e1 parte decimal.\n",
      "print int_var / another_int_var"
     ],
     "language": "python",
     "metadata": {},
     "outputs": [
      {
       "output_type": "stream",
       "stream": "stdout",
       "text": [
        "-4\n",
        "6\n",
        "-5\n",
        "-1\n"
       ]
      }
     ],
     "prompt_number": 1
    },
    {
     "cell_type": "code",
     "collapsed": false,
     "input": [
      "# Un n\u00famero decimal o 'float'\n",
      "float_var = 2.5\n",
      "another_float_var = .7\n",
      "# Convertimos un n\u00famero entero en uno decimal mediante la funci\u00f3n 'float()'.\n",
      "encore_float = float(7)\n",
      "# Podemos hacer lo mismo en sentido contrario con la funci\u00f3n 'int()'.\n",
      "new_int = int(encore_float)\n",
      "\n",
      "# Podemos hacer las mismas operaciones que en el caso de los n\u00fameros enteros, pero en este caso la divisi\u00f3n ser\u00e1\n",
      "# decimal si alguno de los n\u00fameros es decimal.\n",
      "print 4.5 / 5\n",
      "print 4.5 / 5.\n",
      "print 4.5 / 5.0"
     ],
     "language": "python",
     "metadata": {},
     "outputs": [
      {
       "output_type": "stream",
       "stream": "stdout",
       "text": [
        "0.9\n",
        "0.9\n",
        "0.9\n"
       ]
      }
     ],
     "prompt_number": 4
    },
    {
     "cell_type": "code",
     "collapsed": false,
     "input": [
      "# Un n\u00famero complejo\n",
      "complex_var = 2+3j\n",
      "# Podemos acceder a la parte imaginaria o a la parte real:\n",
      "print complex_var.imag\n",
      "print complex_var.real"
     ],
     "language": "python",
     "metadata": {},
     "outputs": [
      {
       "output_type": "stream",
       "stream": "stdout",
       "text": [
        "3.0\n",
        "2.0\n"
       ]
      }
     ],
     "prompt_number": 5
    },
    {
     "cell_type": "code",
     "collapsed": false,
     "input": [
      "# Cadena de caracteres\n",
      "my_string = 'Hello, Bio!'\n",
      "\n",
      "# Podemos escribir caracteres seg\u00fan Unicode.\n",
      "unicode_string = u'Hola desde Espa\u00f1a'\n",
      "\n",
      "# Podemos concatenar dos cadenas utilizando el operador '+'.\n",
      "same_string = 'Hello, ' + 'Bio' + '!'\n",
      "print same_string\n",
      "\n",
      "# En Python tambi\u00e9n podemos utilizar wildcards como en la funci\u00f3n sprintf de C. Por ejemplo:\n",
      "name = \"Guido\"\n",
      "num_emails = 5\n",
      "print \"Hello, %s! You've got %d new emails\" % (name, num_emails)"
     ],
     "language": "python",
     "metadata": {},
     "outputs": [
      {
       "output_type": "stream",
       "stream": "stdout",
       "text": [
        "Hello, Bio!\n",
        "Hello, Guido! You've got 5 new emails\n"
       ]
      }
     ],
     "prompt_number": 6
    },
    {
     "cell_type": "markdown",
     "metadata": {},
     "source": [
      "En el ejemplo anterior, hemos sustituido en el string la cadena *%s* por el contenido de la variable *name*, que es un string, y *%d* por *num_emails*, que es un n\u00famero entero. Podr\u00edamos tambi\u00e9n utilizar *%f* para n\u00fameros decimales (podr\u00edamos indicar la precisi\u00f3n por ejemplo con *%5.3f*, el n\u00famero tendr\u00eda un tama\u00f1o total de cinco cifras y tres ser\u00edan para la parte decimal). Hay muchas otras posibilidades, pero deberemos tener en cuenta el tipo de variable que queremos sustituir. Por ejemplo, si utilizamos *%d* y el contenido es string, Python devolver\u00e1 un mensaje de error. Para evitar esta situaci\u00f3n, ser\u00e1 recomendado el uso de la funci\u00f3n *str()* para convertir el valor a string."
     ]
    },
    {
     "cell_type": "markdown",
     "metadata": {},
     "source": [
      "Ahora vamos a presentar otros tipos de datos nativos m\u00e1s complejos: listas, tuplas y diccionarios:"
     ]
    },
    {
     "cell_type": "code",
     "collapsed": false,
     "input": [
      "# Definimos una lista con el nombre de los planetas (string).\n",
      "planets = ['Mercury', 'Venus', 'Earth', 'Mars',\n",
      "           'Jupiter', 'Saturn', 'Uranus', 'Neptune']\n",
      "# Tambi\u00e9n puede contener n\u00fameros.\n",
      "prime_numbers = [2, 3, 5, 7]\n",
      "\n",
      "# Una lista vac\u00eda\n",
      "empty_list = []\n",
      "\n",
      "# O una mezcla de cualquier tipo:\n",
      "sandbox = ['3', 'a string', ['a list inside another list', 'second item'], 7.5]\n",
      "print sandbox"
     ],
     "language": "python",
     "metadata": {},
     "outputs": [
      {
       "output_type": "stream",
       "stream": "stdout",
       "text": [
        "['3', 'a string', ['a list inside another list', 'second item'], 7.5]\n"
       ]
      }
     ],
     "prompt_number": 7
    },
    {
     "cell_type": "code",
     "collapsed": false,
     "input": [
      "# Podemos a\u00f1adir elementos a una lista.\n",
      "planets.append('Pluto')\n",
      "print planets"
     ],
     "language": "python",
     "metadata": {},
     "outputs": [
      {
       "output_type": "stream",
       "stream": "stdout",
       "text": [
        "['Mercury', 'Venus', 'Earth', 'Mars', 'Jupiter', 'Saturn', 'Uranus', 'Neptune', 'Pluto']\n"
       ]
      }
     ],
     "prompt_number": 8
    },
    {
     "cell_type": "code",
     "collapsed": false,
     "input": [
      "# O podemos eliminar elementos.\n",
      "planets.remove('Pluto')\n",
      "print planets"
     ],
     "language": "python",
     "metadata": {},
     "outputs": [
      {
       "output_type": "stream",
       "stream": "stdout",
       "text": [
        "['Mercury', 'Venus', 'Earth', 'Mars', 'Jupiter', 'Saturn', 'Uranus', 'Neptune']\n"
       ]
      }
     ],
     "prompt_number": 9
    },
    {
     "cell_type": "code",
     "collapsed": false,
     "input": [
      "# Podemos eliminar cualquier elemento de la lista.\n",
      "planets.remove('Venus')\n",
      "print planets"
     ],
     "language": "python",
     "metadata": {},
     "outputs": [
      {
       "output_type": "stream",
       "stream": "stdout",
       "text": [
        "['Mercury', 'Earth', 'Mars', 'Jupiter', 'Saturn', 'Uranus', 'Neptune']\n"
       ]
      }
     ],
     "prompt_number": 10
    },
    {
     "cell_type": "code",
     "collapsed": false,
     "input": [
      "# Siempre que a\u00f1adamos, ser\u00e1 al final de la lista. Una lista est\u00e1 ordenada.\n",
      "planets.append('Venus')\n",
      "print planets"
     ],
     "language": "python",
     "metadata": {},
     "outputs": [
      {
       "output_type": "stream",
       "stream": "stdout",
       "text": [
        "['Mercury', 'Earth', 'Mars', 'Jupiter', 'Saturn', 'Uranus', 'Neptune', 'Venus']\n"
       ]
      }
     ],
     "prompt_number": 11
    },
    {
     "cell_type": "code",
     "collapsed": false,
     "input": [
      "# Si queremos ordenarla alfab\u00e9ticamente, podemos utilizar la funci\u00f3n 'sorted()'.\n",
      "print sorted(planets)"
     ],
     "language": "python",
     "metadata": {},
     "outputs": [
      {
       "output_type": "stream",
       "stream": "stdout",
       "text": [
        "['Earth', 'Jupiter', 'Mars', 'Mercury', 'Neptune', 'Saturn', 'Uranus', 'Venus']\n"
       ]
      }
     ],
     "prompt_number": 12
    },
    {
     "cell_type": "code",
     "collapsed": false,
     "input": [
      "# Podemos concatenar dos listas:\n",
      "monsters = ['Godzilla', 'King Kong']\n",
      "more_monsters = ['Cthulu']\n",
      "print monsters + more_monsters"
     ],
     "language": "python",
     "metadata": {},
     "outputs": [
      {
       "output_type": "stream",
       "stream": "stdout",
       "text": [
        "['Godzilla', 'King Kong', 'Cthulu']\n"
       ]
      }
     ],
     "prompt_number": 13
    },
    {
     "cell_type": "code",
     "collapsed": false,
     "input": [
      "# Podemos concatenar una lista a otra y guardarla en la misma lista:\n",
      "monsters.extend(more_monsters)\n",
      "print monsters"
     ],
     "language": "python",
     "metadata": {},
     "outputs": [
      {
       "output_type": "stream",
       "stream": "stdout",
       "text": [
        "['Godzilla', 'King Kong', 'Cthulu']\n"
       ]
      }
     ],
     "prompt_number": 14
    },
    {
     "cell_type": "code",
     "collapsed": false,
     "input": [
      "# Podemos acceder a un elemento en concreto de la lista:\n",
      "print monsters[0]\n",
      "# El primer elemento de una lista es el 0, por lo tanto, el segundo ser\u00e1 el 1:\n",
      "print monsters[1]\n",
      "# Podemos acceder al \u00faltimo elemento mediante n\u00fameros negativos:\n",
      "print monsters[-1]\n",
      "# Pen\u00faltimo:\n",
      "print monsters[-2]"
     ],
     "language": "python",
     "metadata": {},
     "outputs": [
      {
       "output_type": "stream",
       "stream": "stdout",
       "text": [
        "Godzilla\n",
        "King Kong\n",
        "Cthulu\n",
        "King Kong\n"
       ]
      }
     ],
     "prompt_number": 15
    },
    {
     "cell_type": "code",
     "collapsed": false,
     "input": [
      "# Tambi\u00e9n podemos obtener partes de una lista mediante la t\u00e9cnica de 'slicing'.\n",
      "planets = ['Mercury', 'Venus', 'Earth', 'Mars',\n",
      "           'Jupiter', 'Saturn', 'Uranus', 'Neptune']\n",
      "# Por ejemplo, los dos primeros elementos:\n",
      "print planets[:2]"
     ],
     "language": "python",
     "metadata": {},
     "outputs": [
      {
       "output_type": "stream",
       "stream": "stdout",
       "text": [
        "['Mercury', 'Venus']\n"
       ]
      }
     ],
     "prompt_number": 16
    },
    {
     "cell_type": "code",
     "collapsed": false,
     "input": [
      "# O los elementos del segundo al pen\u00faltimo:\n",
      "print planets[1:-1]"
     ],
     "language": "python",
     "metadata": {},
     "outputs": [
      {
       "output_type": "stream",
       "stream": "stdout",
       "text": [
        "['Venus', 'Earth', 'Mars', 'Jupiter', 'Saturn', 'Uranus']\n"
       ]
      }
     ],
     "prompt_number": 17
    },
    {
     "cell_type": "markdown",
     "metadata": {},
     "source": [
      "La t\u00e9cnica de **slicing** es muy importante y nos permite manejar listas de una forma muy sencilla y potente. Ser\u00e1 imprescindible dominarla para muchos de los problemas que tendremos que resolver en el campo de la Ciencia de los Datos. "
     ]
    },
    {
     "cell_type": "code",
     "collapsed": false,
     "input": [
      "# Podemos modificar un elemento en concreto de una lista.\n",
      "monsters = ['Godzilla', 'King Kong', 'Cthulu']\n",
      "monsters[-1] = 'Kraken'\n",
      "print monsters"
     ],
     "language": "python",
     "metadata": {},
     "outputs": [
      {
       "output_type": "stream",
       "stream": "stdout",
       "text": [
        "['Godzilla', 'King Kong', 'Kraken']\n"
       ]
      }
     ],
     "prompt_number": 18
    },
    {
     "cell_type": "code",
     "collapsed": false,
     "input": [
      "# Una tupla es un tipo muy parecido a una lista, pero es immutable, es decir, una vez declarada no podemos a\u00f1adir\n",
      "# ni eliminar elementos:\n",
      "birth_year = ('Stephen Hawking', 1942)\n",
      "# Si ejecutamos la siguiente l\u00ednea, obtendremos un error de tipo 'TypeError'.\n",
      "birth_year[1] = 1984"
     ],
     "language": "python",
     "metadata": {},
     "outputs": [
      {
       "ename": "TypeError",
       "evalue": "'tuple' object does not support item assignment",
       "output_type": "pyerr",
       "traceback": [
        "\u001b[0;31m---------------------------------------------------------------------------\u001b[0m\n\u001b[0;31mTypeError\u001b[0m                                 Traceback (most recent call last)",
        "\u001b[0;32m<ipython-input-19-4780e70fc35b>\u001b[0m in \u001b[0;36m<module>\u001b[0;34m()\u001b[0m\n\u001b[1;32m      3\u001b[0m \u001b[0mbirth_year\u001b[0m \u001b[0;34m=\u001b[0m \u001b[0;34m(\u001b[0m\u001b[0;34m'Stephen Hawking'\u001b[0m\u001b[0;34m,\u001b[0m \u001b[0;36m1942\u001b[0m\u001b[0;34m)\u001b[0m\u001b[0;34m\u001b[0m\u001b[0m\n\u001b[1;32m      4\u001b[0m \u001b[0;31m# Si ejecutamos la siguiente l\u00ednea, obtendremos un error de tipo 'TypeError'\u001b[0m\u001b[0;34m\u001b[0m\u001b[0;34m\u001b[0m\u001b[0m\n\u001b[0;32m----> 5\u001b[0;31m \u001b[0mbirth_year\u001b[0m\u001b[0;34m[\u001b[0m\u001b[0;36m1\u001b[0m\u001b[0;34m]\u001b[0m \u001b[0;34m=\u001b[0m \u001b[0;36m1984\u001b[0m\u001b[0;34m\u001b[0m\u001b[0m\n\u001b[0m",
        "\u001b[0;31mTypeError\u001b[0m: 'tuple' object does not support item assignment"
       ]
      }
     ],
     "prompt_number": 19
    },
    {
     "cell_type": "markdown",
     "metadata": {},
     "source": [
      "Los errores en Python suelen ser muy informativos. Una b\u00fasqueda en Internet nos ayudar\u00e1 en la gran mayor\u00eda de problemas que podamos tener."
     ]
    },
    {
     "cell_type": "code",
     "collapsed": false,
     "input": [
      "# Un string tambi\u00e9n es considerado una lista de caracteres\n",
      "# As\u00ed pues, podemos acceder a una posici\u00f3n determinada (aunque no modificarla):\n",
      "name = 'Albert Einstein'\n",
      "print name[5]\n",
      "\n",
      "# Podemos separar por el car\u00e1cter que consideremos un string. En este caso, por el espacio en blanco, utilizando\n",
      "# la funci\u00f3n split().\n",
      "n, surname = name.split()\n",
      "print surname\n",
      "\n",
      "# Y podemos convertir un determinado string en una lista de caracteres f\u00e1cilmente:\n",
      "chars = list(surname)\n",
      "print chars\n",
      "\n",
      "# Para unir los diferentes elementos de una lista mediante un car\u00e1cter, podemos utilizar la funci\u00f3n join():\n",
      "print ''.join(chars)\n",
      "print '.'.join(chars)"
     ],
     "language": "python",
     "metadata": {},
     "outputs": [
      {
       "output_type": "stream",
       "stream": "stdout",
       "text": [
        "t\n",
        "Einstein\n",
        "['E', 'i', 'n', 's', 't', 'e', 'i', 'n']\n",
        "Einstein\n",
        "E.i.n.s.t.e.i.n\n"
       ]
      }
     ],
     "prompt_number": 1
    },
    {
     "cell_type": "code",
     "collapsed": false,
     "input": [
      "# El operador ',' es el creador de tuplas. Por ejemplo, el t\u00edpico problema de asignar el valor de una variable a otra \n",
      "# en Python puede ser resuelto en una l\u00ednea de forma muy elegante utilizando tuplas (se trata de un idiom):\n",
      "a = 5\n",
      "b = -5\n",
      "a,b = b,a\n",
      "print a\n",
      "print b"
     ],
     "language": "python",
     "metadata": {},
     "outputs": [
      {
       "output_type": "stream",
       "stream": "stdout",
       "text": [
        "-5\n",
        "5\n"
       ]
      }
     ],
     "prompt_number": 2
    },
    {
     "cell_type": "markdown",
     "metadata": {},
     "source": [
      "El anterior ejemplo es un *idiom* t\u00edpico de Python. En la tarcera l\u00ednea, creamos una tupla (a,b) a la que asignamos los valores uno por uno de la tupla (b,a). Los par\u00e9ntesis no son necesarios y por eso queda una notaci\u00f3n tan reducida.\n",
      "\n",
      "Para acabar, presentaremos los diccionarios, una estructura de datos muy \u00fatil en la que asignamos un valor a una clave en el diccionario:"
     ]
    },
    {
     "cell_type": "code",
     "collapsed": false,
     "input": [
      "# C\u00f3digos internacionales de algunos pa\u00edses. La clave o 'key' es el c\u00f3digo de pa\u00eds y el valor, su nombre:\n",
      "country_codes = {34: 'Spain', 376: 'Andorra', 41: 'Switzerland', 424: None}\n",
      "\n",
      "# Podemos buscar\n",
      "my_code = 34\n",
      "country = country_codes[my_code]\n",
      "print country"
     ],
     "language": "python",
     "metadata": {},
     "outputs": [],
     "prompt_number": null
    },
    {
     "cell_type": "code",
     "collapsed": false,
     "input": [
      "# Podemos obtener todas las claves:\n",
      "print country_codes.keys()"
     ],
     "language": "python",
     "metadata": {},
     "outputs": [],
     "prompt_number": null
    },
    {
     "cell_type": "code",
     "collapsed": false,
     "input": [
      "# O los valores:\n",
      "print country_codes.values()"
     ],
     "language": "python",
     "metadata": {},
     "outputs": [],
     "prompt_number": null
    },
    {
     "cell_type": "markdown",
     "metadata": {},
     "source": [
      "**Es muy importante notar que los valores que obtenemos de las claves o al imprimir un diccionario no est\u00e1n ordenados**. Es un error muy com\u00fan suponer que el diccionario se guarda internamente en el mismo orden en el que fue definido y ser\u00e1 una fuente de error habitual no tenerlo en cuenta."
     ]
    },
    {
     "cell_type": "code",
     "collapsed": false,
     "input": [
      "# Podemos modificar valores en el diccionario o a\u00f1adir nuevas claves.\n",
      "\n",
      "# Definimos un diccionario vac\u00edo. country_codes = dict() es una notaci\u00f3n equivalente:\n",
      "country_codes = {}\n",
      "\n",
      "# A\u00f1adimos un elemento:\n",
      "country_codes[34] = 'Spain'\n",
      "\n",
      "# A\u00f1adimos otro:\n",
      "country_codes[81] = 'Japan'\n",
      "\n",
      "print country_codes"
     ],
     "language": "python",
     "metadata": {},
     "outputs": [
      {
       "output_type": "stream",
       "stream": "stdout",
       "text": [
        "{81: 'Japan', 34: 'Spain'}\n"
       ]
      }
     ],
     "prompt_number": 2
    },
    {
     "cell_type": "code",
     "collapsed": false,
     "input": [
      "# Modificamos el diccionario:\n",
      "country_codes[81] = 'Andorra'\n",
      "\n",
      "print country_codes"
     ],
     "language": "python",
     "metadata": {},
     "outputs": [],
     "prompt_number": null
    },
    {
     "cell_type": "code",
     "collapsed": false,
     "input": [
      "# Podemos asignar el valor vac\u00edo a un elemento:\n",
      "country_codes[81] = None\n",
      "\n",
      "print country_codes"
     ],
     "language": "python",
     "metadata": {},
     "outputs": [],
     "prompt_number": null
    },
    {
     "cell_type": "markdown",
     "metadata": {},
     "source": [
      "Los valores vac\u00edos nos ser\u00e1n \u00fatiles para declarar una variable de la que no sepamos qu\u00e9 valor o qu\u00e9 tipo de valor contendr\u00e1 y para hacer comparaciones entre variables. T\u00edpicamente, los valores vac\u00edos son None o '' en el caso de las cadenas de caracteres."
     ]
    },
    {
     "cell_type": "code",
     "collapsed": false,
     "input": [
      "# Podemos asignar el valor de una variable a otra. Es importante que se entiendan las siguientes l\u00edneas:\n",
      "a = 5\n",
      "b = 1\n",
      "print a, b\n",
      "# b contiene la 'direcci\u00f3n' del contenedor al que apunta 'a'.\n",
      "b = a\n",
      "print a, b"
     ],
     "language": "python",
     "metadata": {},
     "outputs": [],
     "prompt_number": null
    },
    {
     "cell_type": "code",
     "collapsed": false,
     "input": [
      "# Veamos ahora qu\u00e9 pasa si modificamos el valor de a o b:\n",
      "a = 6\n",
      "print a, b\n",
      "b = 7\n",
      "print a, b"
     ],
     "language": "python",
     "metadata": {},
     "outputs": [],
     "prompt_number": null
    },
    {
     "cell_type": "markdown",
     "metadata": {},
     "source": [
      "Hasta aqu\u00ed hemos presentado c\u00f3mo declarar y utilizar variables. Recomendamos la lectura de la [documentaci\u00f3n oficial en l\u00ednea](https://docs.python.org/2/tutorial/introduction.html) para fijar los conocimientos explicados."
     ]
    }
   ],
   "metadata": {}
  }
 ]
}